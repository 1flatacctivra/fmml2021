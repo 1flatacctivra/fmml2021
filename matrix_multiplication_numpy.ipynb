{
  "nbformat": 4,
  "nbformat_minor": 0,
  "metadata": {
    "colab": {
      "name": "matrix_multiplication_numpy.ipynb",
      "provenance": [],
      "authorship_tag": "ABX9TyNcIijdsYGDRPAlkGufBN9S",
      "include_colab_link": true
    },
    "kernelspec": {
      "name": "python3",
      "display_name": "Python 3"
    },
    "language_info": {
      "name": "python"
    }
  },
  "cells": [
    {
      "cell_type": "markdown",
      "metadata": {
        "id": "view-in-github",
        "colab_type": "text"
      },
      "source": [
        "<a href=\"https://colab.research.google.com/github/fmml2021/fmml2021/blob/main/matrix_multiplication_numpy.ipynb\" target=\"_parent\"><img src=\"https://colab.research.google.com/assets/colab-badge.svg\" alt=\"Open In Colab\"/></a>"
      ]
    },
    {
      "cell_type": "code",
      "metadata": {
        "id": "GKzfXFFDXq3A"
      },
      "source": [
        "import numpy as np"
      ],
      "execution_count": 4,
      "outputs": []
    },
    {
      "cell_type": "code",
      "metadata": {
        "id": "YctShh1nW4cA"
      },
      "source": [
        "tuna = np.array([10, 14, 50])\n",
        "pisa = np.array([13, 45, 67])"
      ],
      "execution_count": 5,
      "outputs": []
    },
    {
      "cell_type": "code",
      "metadata": {
        "id": "raCIxRitW_P5"
      },
      "source": [
        "weights = np.array([0.33, 0.65, 0.88])"
      ],
      "execution_count": 6,
      "outputs": []
    },
    {
      "cell_type": "code",
      "metadata": {
        "id": "Ft6qWy1KXDKz"
      },
      "source": [
        "def total_yield(climate, weights):\n",
        "  return np.matmul(climate, weights.transpose())"
      ],
      "execution_count": 12,
      "outputs": []
    },
    {
      "cell_type": "code",
      "metadata": {
        "colab": {
          "base_uri": "https://localhost:8080/"
        },
        "id": "IhNyNSsNYWEU",
        "outputId": "18dd2a62-de96-4e1a-a47b-ed6416f41a3c"
      },
      "source": [
        "print (total_yield(tuna, weights))"
      ],
      "execution_count": 13,
      "outputs": [
        {
          "output_type": "stream",
          "text": [
            "56.4\n"
          ],
          "name": "stdout"
        }
      ]
    },
    {
      "cell_type": "code",
      "metadata": {
        "colab": {
          "base_uri": "https://localhost:8080/"
        },
        "id": "Gj6G1sfRYvrh",
        "outputId": "23cc1932-9fa0-4587-85b1-1d42203aab16"
      },
      "source": [
        "print (total_yield(pisa, weights))"
      ],
      "execution_count": 14,
      "outputs": [
        {
          "output_type": "stream",
          "text": [
            "92.5\n"
          ],
          "name": "stdout"
        }
      ]
    }
  ]
}