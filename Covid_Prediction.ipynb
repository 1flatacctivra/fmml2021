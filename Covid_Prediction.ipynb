{
  "nbformat": 4,
  "nbformat_minor": 0,
  "metadata": {
    "colab": {
      "name": "Covid_Prediction.ipynb",
      "provenance": [],
      "authorship_tag": "ABX9TyPJ1k4Kcev10aAMjW3/4WzK",
      "include_colab_link": true
    },
    "kernelspec": {
      "name": "python3",
      "display_name": "Python 3"
    },
    "language_info": {
      "name": "python"
    }
  },
  "cells": [
    {
      "cell_type": "markdown",
      "metadata": {
        "id": "view-in-github",
        "colab_type": "text"
      },
      "source": [
        "<a href=\"https://colab.research.google.com/github/fmml2021/fmml2021/blob/main/Covid_Prediction.ipynb\" target=\"_parent\"><img src=\"https://colab.research.google.com/assets/colab-badge.svg\" alt=\"Open In Colab\"/></a>"
      ]
    },
    {
      "cell_type": "code",
      "metadata": {
        "id": "C2yq3ZgriveT"
      },
      "source": [
        "import numpy as np"
      ],
      "execution_count": 1,
      "outputs": []
    },
    {
      "cell_type": "code",
      "metadata": {
        "id": "7CqMJ1hKiRQ0"
      },
      "source": [
        "people = np.array([[20, 120, 20],\n",
        "          [30, 130, 25], \n",
        "          [70, 300, 20],\n",
        "          [45, 250, 40]])"
      ],
      "execution_count": 2,
      "outputs": []
    },
    {
      "cell_type": "code",
      "metadata": {
        "id": "TAKm43MWiybw"
      },
      "source": [
        "weights = np.array([0.05, 0.002, 0.04])"
      ],
      "execution_count": 3,
      "outputs": []
    },
    {
      "cell_type": "code",
      "metadata": {
        "id": "wqTcpNQ7i-yX"
      },
      "source": [
        "def get_danger_figure (people, weights):\n",
        "  return np.matmul(people, weights.transpose())"
      ],
      "execution_count": 8,
      "outputs": []
    },
    {
      "cell_type": "code",
      "metadata": {
        "colab": {
          "base_uri": "https://localhost:8080/"
        },
        "id": "Ozw9d78YjZvb",
        "outputId": "ee3c2946-73b5-404b-8ed7-3a3bc6b75f08"
      },
      "source": [
        "get_danger_figure (people, weights)"
      ],
      "execution_count": 9,
      "outputs": [
        {
          "output_type": "execute_result",
          "data": {
            "text/plain": [
              "array([2.04, 2.76, 4.9 , 4.35])"
            ]
          },
          "metadata": {
            "tags": []
          },
          "execution_count": 9
        }
      ]
    },
    {
      "cell_type": "code",
      "metadata": {
        "id": "4hLkIw0-kCat"
      },
      "source": [
        "def predict (plist):\n",
        " return plist >=4.0"
      ],
      "execution_count": 24,
      "outputs": []
    },
    {
      "cell_type": "code",
      "metadata": {
        "colab": {
          "base_uri": "https://localhost:8080/"
        },
        "id": "cqzt8NQNkmuo",
        "outputId": "fde24300-b16b-441f-d952-53e8434c3b52"
      },
      "source": [
        "predict (get_danger_figure(people, weights))"
      ],
      "execution_count": 26,
      "outputs": [
        {
          "output_type": "execute_result",
          "data": {
            "text/plain": [
              "array([False, False,  True,  True])"
            ]
          },
          "metadata": {
            "tags": []
          },
          "execution_count": 26
        }
      ]
    }
  ]
}